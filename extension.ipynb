{
 "cells": [
  {
   "cell_type": "code",
   "execution_count": 1,
   "id": "00dd5370-c493-4d6b-bf12-95810f515520",
   "metadata": {},
   "outputs": [
    {
     "name": "stdout",
     "output_type": "stream",
     "text": [
      "TensorFlow version: 2.18.0\n"
     ]
    }
   ],
   "source": [
    "# Install necessary packages (uncomment if needed)\n",
    "# %pip install astroquery astropy\n",
    "\n",
    "import os\n",
    "import numpy as np\n",
    "import pandas as pd\n",
    "import matplotlib.pyplot as plt\n",
    "\n",
    "# For SDSS queries and FITS handling\n",
    "from astroquery.sdss import SDSS\n",
    "from astropy.io import fits\n",
    "\n",
    "# TensorFlow via its tf.keras namespace (using alternative import)\n",
    "import tensorflow as tf\n",
    "print(\"TensorFlow version:\", tf.__version__)\n",
    "Sequential = tf.keras.models.Sequential\n",
    "Conv1D = tf.keras.layers.Conv1D\n",
    "MaxPooling1D = tf.keras.layers.MaxPooling1D\n",
    "Flatten = tf.keras.layers.Flatten\n",
    "Dense = tf.keras.layers.Dense\n",
    "\n",
    "# Other ML utilities\n",
    "from sklearn.model_selection import train_test_split\n",
    "from sklearn.preprocessing import LabelEncoder\n",
    "from sklearn.decomposition import PCA, FastICA, NMF\n",
    "\n",
    "# Set random seed for reproducibility\n",
    "np.random.seed(42)\n",
    "tf.random.set_seed(42)\n"
   ]
  },
  {
   "cell_type": "code",
   "execution_count": 3,
   "id": "6c1c00ba-9f2d-4dbe-b13c-9c4404af9d37",
   "metadata": {},
   "outputs": [
    {
     "name": "stdout",
     "output_type": "stream",
     "text": [
      "SDSS query returned:\n",
      "     specobjid      plate  mjd  fiberid\n",
      "------------------- ----- ----- -------\n",
      "3312424264937793536  2942 54521      97\n",
      "3312465221745928192  2942 54521     246\n",
      "3312414919088957440  2942 54521      63\n",
      "3556869618884780032  3159 54802     552\n",
      "3516337221215035392  3123 54741     552\n",
      "3613183857425227776  3209 54906     622\n",
      "3312497932216854528  2942 54521     365\n",
      "3312484463199414272  2942 54521     316\n",
      "3312482539054065664  2942 54521     309\n",
      " 713889571598788608   634 52164     251\n"
     ]
    }
   ],
   "source": [
    "# Query SDSS for a sample of galaxy spectra (here TOP 10)\n",
    "query = \"SELECT TOP 10 specobjid, plate, mjd, fiberid FROM SpecObj WHERE class='GALAXY'\"\n",
    "galaxy_table = SDSS.query_sql(query)\n",
    "\n",
    "if galaxy_table is None or len(galaxy_table) == 0:\n",
    "    raise Exception(\"No galaxy spectra were returned. Please check your query and network connection.\")\n",
    "\n",
    "print(\"SDSS query returned:\")\n",
    "print(galaxy_table)\n"
   ]
  },
  {
   "cell_type": "code",
   "execution_count": 5,
   "id": "7d74f14b-1a6f-4dca-abe7-c54ab1968475",
   "metadata": {},
   "outputs": [
    {
     "ename": "KeyError",
     "evalue": "\"Keyword 'COEFF0' not found.\"",
     "output_type": "error",
     "traceback": [
      "\u001b[0;31m---------------------------------------------------------------------------\u001b[0m",
      "\u001b[0;31mKeyError\u001b[0m                                  Traceback (most recent call last)",
      "Cell \u001b[0;32mIn[5], line 23\u001b[0m\n\u001b[1;32m     20\u001b[0m \u001b[38;5;66;03m# Construct the wavelength array.\u001b[39;00m\n\u001b[1;32m     21\u001b[0m \u001b[38;5;66;03m# SDSS spectra have wavelengths computed as: wavelength = 10^(COEFF0 + COEFF1 * i)\u001b[39;00m\n\u001b[1;32m     22\u001b[0m n \u001b[38;5;241m=\u001b[39m \u001b[38;5;28mlen\u001b[39m(flux)\n\u001b[0;32m---> 23\u001b[0m loglam0 \u001b[38;5;241m=\u001b[39m \u001b[43mheader\u001b[49m\u001b[43m[\u001b[49m\u001b[38;5;124;43m'\u001b[39;49m\u001b[38;5;124;43mCOEFF0\u001b[39;49m\u001b[38;5;124;43m'\u001b[39;49m\u001b[43m]\u001b[49m\n\u001b[1;32m     24\u001b[0m loglam1 \u001b[38;5;241m=\u001b[39m header[\u001b[38;5;124m'\u001b[39m\u001b[38;5;124mCOEFF1\u001b[39m\u001b[38;5;124m'\u001b[39m]\n\u001b[1;32m     25\u001b[0m wavelength \u001b[38;5;241m=\u001b[39m \u001b[38;5;241m10\u001b[39m \u001b[38;5;241m*\u001b[39m\u001b[38;5;241m*\u001b[39m (loglam0 \u001b[38;5;241m+\u001b[39m loglam1 \u001b[38;5;241m*\u001b[39m np\u001b[38;5;241m.\u001b[39marange(n))\n",
      "File \u001b[0;32m/opt/anaconda3/envs/tf_env/lib/python3.10/site-packages/astropy/io/fits/header.py:170\u001b[0m, in \u001b[0;36mHeader.__getitem__\u001b[0;34m(self, key)\u001b[0m\n\u001b[1;32m    167\u001b[0m \u001b[38;5;28;01melse\u001b[39;00m:\n\u001b[1;32m    168\u001b[0m     keyword \u001b[38;5;241m=\u001b[39m key\n\u001b[0;32m--> 170\u001b[0m card \u001b[38;5;241m=\u001b[39m \u001b[38;5;28mself\u001b[39m\u001b[38;5;241m.\u001b[39m_cards[\u001b[38;5;28;43mself\u001b[39;49m\u001b[38;5;241;43m.\u001b[39;49m\u001b[43m_cardindex\u001b[49m\u001b[43m(\u001b[49m\u001b[43mkey\u001b[49m\u001b[43m)\u001b[49m]\n\u001b[1;32m    172\u001b[0m \u001b[38;5;28;01mif\u001b[39;00m card\u001b[38;5;241m.\u001b[39mfield_specifier \u001b[38;5;129;01mis\u001b[39;00m \u001b[38;5;129;01mnot\u001b[39;00m \u001b[38;5;28;01mNone\u001b[39;00m \u001b[38;5;129;01mand\u001b[39;00m keyword \u001b[38;5;241m==\u001b[39m card\u001b[38;5;241m.\u001b[39mrawkeyword:\n\u001b[1;32m    173\u001b[0m     \u001b[38;5;66;03m# This is RVKC; if only the top-level keyword was specified return\u001b[39;00m\n\u001b[1;32m    174\u001b[0m     \u001b[38;5;66;03m# the raw value, not the parsed out float value\u001b[39;00m\n\u001b[1;32m    175\u001b[0m     \u001b[38;5;28;01mreturn\u001b[39;00m card\u001b[38;5;241m.\u001b[39mrawvalue\n",
      "File \u001b[0;32m/opt/anaconda3/envs/tf_env/lib/python3.10/site-packages/astropy/io/fits/header.py:1725\u001b[0m, in \u001b[0;36mHeader._cardindex\u001b[0;34m(self, key)\u001b[0m\n\u001b[1;32m   1722\u001b[0m         indices \u001b[38;5;241m=\u001b[39m \u001b[38;5;28mself\u001b[39m\u001b[38;5;241m.\u001b[39m_rvkc_indices\u001b[38;5;241m.\u001b[39mget(keyword, \u001b[38;5;28;01mNone\u001b[39;00m)\n\u001b[1;32m   1724\u001b[0m \u001b[38;5;28;01mif\u001b[39;00m \u001b[38;5;129;01mnot\u001b[39;00m indices:\n\u001b[0;32m-> 1725\u001b[0m     \u001b[38;5;28;01mraise\u001b[39;00m \u001b[38;5;167;01mKeyError\u001b[39;00m(\u001b[38;5;124mf\u001b[39m\u001b[38;5;124m\"\u001b[39m\u001b[38;5;124mKeyword \u001b[39m\u001b[38;5;132;01m{\u001b[39;00mkeyword\u001b[38;5;132;01m!r}\u001b[39;00m\u001b[38;5;124m not found.\u001b[39m\u001b[38;5;124m\"\u001b[39m)\n\u001b[1;32m   1727\u001b[0m \u001b[38;5;28;01mtry\u001b[39;00m:\n\u001b[1;32m   1728\u001b[0m     \u001b[38;5;28;01mreturn\u001b[39;00m indices[n]\n",
      "\u001b[0;31mKeyError\u001b[0m: \"Keyword 'COEFF0' not found.\""
     ]
    }
   ],
   "source": [
    "spectra_list = []\n",
    "spec_ids = []\n",
    "wavelength_list = []  # to store the wavelength array (should be the same for all spectra)\n",
    "\n",
    "for row in galaxy_table:\n",
    "    plate = row['plate']\n",
    "    mjd = row['mjd']\n",
    "    fiberid = row['fiberid']\n",
    "    # Download the spectrum using SDSS.get_spectra\n",
    "    spec = SDSS.get_spectra(plate=plate, mjd=mjd, fiberID=fiberid)\n",
    "    \n",
    "    if spec is None or len(spec) == 0:\n",
    "        continue\n",
    "    \n",
    "    # spec is a list of HDUList objects; we take the first one.\n",
    "    hdu = spec[0]\n",
    "    data = hdu[1].data  # second HDU contains the spectral data\n",
    "    flux = data['flux']  # flux array\n",
    "    header = hdu[1].header\n",
    "    # Construct the wavelength array.\n",
    "    # SDSS spectra have wavelengths computed as: wavelength = 10^(COEFF0 + COEFF1 * i)\n",
    "    n = len(flux)\n",
    "    loglam0 = header['COEFF0']\n",
    "    loglam1 = header['COEFF1']\n",
    "    wavelength = 10 ** (loglam0 + loglam1 * np.arange(n))\n",
    "    \n",
    "    spectra_list.append(flux)\n",
    "    spec_ids.append(row['specobjid'])\n",
    "    if len(wavelength_list) == 0:\n",
    "        wavelength_list = wavelength  # assume all spectra share the same wavelength grid\n",
    "\n",
    "print(f\"Downloaded {len(spectra_list)} spectra.\")\n"
   ]
  },
  {
   "cell_type": "code",
   "execution_count": null,
   "id": "a80e2c29-a35b-4e4e-9bc4-afb62744eb70",
   "metadata": {},
   "outputs": [],
   "source": []
  }
 ],
 "metadata": {
  "kernelspec": {
   "display_name": "Python (tf_env)",
   "language": "python",
   "name": "tf_env"
  },
  "language_info": {
   "codemirror_mode": {
    "name": "ipython",
    "version": 3
   },
   "file_extension": ".py",
   "mimetype": "text/x-python",
   "name": "python",
   "nbconvert_exporter": "python",
   "pygments_lexer": "ipython3",
   "version": "3.10.16"
  }
 },
 "nbformat": 4,
 "nbformat_minor": 5
}
